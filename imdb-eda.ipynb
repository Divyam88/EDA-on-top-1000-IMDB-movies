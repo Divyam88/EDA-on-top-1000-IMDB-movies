{
 "cells": [
  {
   "cell_type": "code",
   "execution_count": 1,
   "metadata": {
    "execution": {
     "iopub.execute_input": "2023-03-31T15:32:53.502286Z",
     "iopub.status.busy": "2023-03-31T15:32:53.501883Z",
     "iopub.status.idle": "2023-03-31T15:32:53.544017Z",
     "shell.execute_reply": "2023-03-31T15:32:53.542607Z",
     "shell.execute_reply.started": "2023-03-31T15:32:53.502247Z"
    }
   },
   "outputs": [],
   "source": [
    "import numpy as np\n",
    "import pandas as pd\n",
    "import matplotlib.pyplot as plt\n",
    "import seaborn as sns"
   ]
  },
  {
   "cell_type": "code",
   "execution_count": 2,
   "metadata": {},
   "outputs": [
    {
     "data": {
      "text/html": [
       "<div>\n",
       "<style scoped>\n",
       "    .dataframe tbody tr th:only-of-type {\n",
       "        vertical-align: middle;\n",
       "    }\n",
       "\n",
       "    .dataframe tbody tr th {\n",
       "        vertical-align: top;\n",
       "    }\n",
       "\n",
       "    .dataframe thead th {\n",
       "        text-align: right;\n",
       "    }\n",
       "</style>\n",
       "<table border=\"1\" class=\"dataframe\">\n",
       "  <thead>\n",
       "    <tr style=\"text-align: right;\">\n",
       "      <th></th>\n",
       "      <th>Poster_Link</th>\n",
       "      <th>Series_Title</th>\n",
       "      <th>Released_Year</th>\n",
       "      <th>Certificate</th>\n",
       "      <th>Runtime</th>\n",
       "      <th>Genre</th>\n",
       "      <th>IMDB_Rating</th>\n",
       "      <th>Overview</th>\n",
       "      <th>Meta_score</th>\n",
       "      <th>Director</th>\n",
       "      <th>Star1</th>\n",
       "      <th>Star2</th>\n",
       "      <th>Star3</th>\n",
       "      <th>Star4</th>\n",
       "      <th>No_of_Votes</th>\n",
       "      <th>Gross</th>\n",
       "    </tr>\n",
       "  </thead>\n",
       "  <tbody>\n",
       "    <tr>\n",
       "      <th>0</th>\n",
       "      <td>https://m.media-amazon.com/images/M/MV5BMDFkYT...</td>\n",
       "      <td>The Shawshank Redemption</td>\n",
       "      <td>1994</td>\n",
       "      <td>A</td>\n",
       "      <td>142 min</td>\n",
       "      <td>Drama</td>\n",
       "      <td>9.3</td>\n",
       "      <td>Two imprisoned men bond over a number of years...</td>\n",
       "      <td>80.0</td>\n",
       "      <td>Frank Darabont</td>\n",
       "      <td>Tim Robbins</td>\n",
       "      <td>Morgan Freeman</td>\n",
       "      <td>Bob Gunton</td>\n",
       "      <td>William Sadler</td>\n",
       "      <td>2343110</td>\n",
       "      <td>28,341,469</td>\n",
       "    </tr>\n",
       "    <tr>\n",
       "      <th>1</th>\n",
       "      <td>https://m.media-amazon.com/images/M/MV5BM2MyNj...</td>\n",
       "      <td>The Godfather</td>\n",
       "      <td>1972</td>\n",
       "      <td>A</td>\n",
       "      <td>175 min</td>\n",
       "      <td>Crime, Drama</td>\n",
       "      <td>9.2</td>\n",
       "      <td>An organized crime dynasty's aging patriarch t...</td>\n",
       "      <td>100.0</td>\n",
       "      <td>Francis Ford Coppola</td>\n",
       "      <td>Marlon Brando</td>\n",
       "      <td>Al Pacino</td>\n",
       "      <td>James Caan</td>\n",
       "      <td>Diane Keaton</td>\n",
       "      <td>1620367</td>\n",
       "      <td>134,966,411</td>\n",
       "    </tr>\n",
       "    <tr>\n",
       "      <th>2</th>\n",
       "      <td>https://m.media-amazon.com/images/M/MV5BMTMxNT...</td>\n",
       "      <td>The Dark Knight</td>\n",
       "      <td>2008</td>\n",
       "      <td>UA</td>\n",
       "      <td>152 min</td>\n",
       "      <td>Action, Crime, Drama</td>\n",
       "      <td>9.0</td>\n",
       "      <td>When the menace known as the Joker wreaks havo...</td>\n",
       "      <td>84.0</td>\n",
       "      <td>Christopher Nolan</td>\n",
       "      <td>Christian Bale</td>\n",
       "      <td>Heath Ledger</td>\n",
       "      <td>Aaron Eckhart</td>\n",
       "      <td>Michael Caine</td>\n",
       "      <td>2303232</td>\n",
       "      <td>534,858,444</td>\n",
       "    </tr>\n",
       "    <tr>\n",
       "      <th>3</th>\n",
       "      <td>https://m.media-amazon.com/images/M/MV5BMWMwMG...</td>\n",
       "      <td>The Godfather: Part II</td>\n",
       "      <td>1974</td>\n",
       "      <td>A</td>\n",
       "      <td>202 min</td>\n",
       "      <td>Crime, Drama</td>\n",
       "      <td>9.0</td>\n",
       "      <td>The early life and career of Vito Corleone in ...</td>\n",
       "      <td>90.0</td>\n",
       "      <td>Francis Ford Coppola</td>\n",
       "      <td>Al Pacino</td>\n",
       "      <td>Robert De Niro</td>\n",
       "      <td>Robert Duvall</td>\n",
       "      <td>Diane Keaton</td>\n",
       "      <td>1129952</td>\n",
       "      <td>57,300,000</td>\n",
       "    </tr>\n",
       "    <tr>\n",
       "      <th>4</th>\n",
       "      <td>https://m.media-amazon.com/images/M/MV5BMWU4N2...</td>\n",
       "      <td>12 Angry Men</td>\n",
       "      <td>1957</td>\n",
       "      <td>U</td>\n",
       "      <td>96 min</td>\n",
       "      <td>Crime, Drama</td>\n",
       "      <td>9.0</td>\n",
       "      <td>A jury holdout attempts to prevent a miscarria...</td>\n",
       "      <td>96.0</td>\n",
       "      <td>Sidney Lumet</td>\n",
       "      <td>Henry Fonda</td>\n",
       "      <td>Lee J. Cobb</td>\n",
       "      <td>Martin Balsam</td>\n",
       "      <td>John Fiedler</td>\n",
       "      <td>689845</td>\n",
       "      <td>4,360,000</td>\n",
       "    </tr>\n",
       "  </tbody>\n",
       "</table>\n",
       "</div>"
      ],
      "text/plain": [
       "                                         Poster_Link  \\\n",
       "0  https://m.media-amazon.com/images/M/MV5BMDFkYT...   \n",
       "1  https://m.media-amazon.com/images/M/MV5BM2MyNj...   \n",
       "2  https://m.media-amazon.com/images/M/MV5BMTMxNT...   \n",
       "3  https://m.media-amazon.com/images/M/MV5BMWMwMG...   \n",
       "4  https://m.media-amazon.com/images/M/MV5BMWU4N2...   \n",
       "\n",
       "               Series_Title Released_Year Certificate  Runtime  \\\n",
       "0  The Shawshank Redemption          1994           A  142 min   \n",
       "1             The Godfather          1972           A  175 min   \n",
       "2           The Dark Knight          2008          UA  152 min   \n",
       "3    The Godfather: Part II          1974           A  202 min   \n",
       "4              12 Angry Men          1957           U   96 min   \n",
       "\n",
       "                  Genre  IMDB_Rating  \\\n",
       "0                 Drama          9.3   \n",
       "1          Crime, Drama          9.2   \n",
       "2  Action, Crime, Drama          9.0   \n",
       "3          Crime, Drama          9.0   \n",
       "4          Crime, Drama          9.0   \n",
       "\n",
       "                                            Overview  Meta_score  \\\n",
       "0  Two imprisoned men bond over a number of years...        80.0   \n",
       "1  An organized crime dynasty's aging patriarch t...       100.0   \n",
       "2  When the menace known as the Joker wreaks havo...        84.0   \n",
       "3  The early life and career of Vito Corleone in ...        90.0   \n",
       "4  A jury holdout attempts to prevent a miscarria...        96.0   \n",
       "\n",
       "               Director           Star1           Star2          Star3  \\\n",
       "0        Frank Darabont     Tim Robbins  Morgan Freeman     Bob Gunton   \n",
       "1  Francis Ford Coppola   Marlon Brando       Al Pacino     James Caan   \n",
       "2     Christopher Nolan  Christian Bale    Heath Ledger  Aaron Eckhart   \n",
       "3  Francis Ford Coppola       Al Pacino  Robert De Niro  Robert Duvall   \n",
       "4          Sidney Lumet     Henry Fonda     Lee J. Cobb  Martin Balsam   \n",
       "\n",
       "            Star4  No_of_Votes        Gross  \n",
       "0  William Sadler      2343110   28,341,469  \n",
       "1    Diane Keaton      1620367  134,966,411  \n",
       "2   Michael Caine      2303232  534,858,444  \n",
       "3    Diane Keaton      1129952   57,300,000  \n",
       "4    John Fiedler       689845    4,360,000  "
      ]
     },
     "execution_count": 2,
     "metadata": {},
     "output_type": "execute_result"
    }
   ],
   "source": [
    "# READING THE DATASET\n",
    "df = pd.read_csv('imdb_top_1000.csv')\n",
    "df.head()"
   ]
  },
  {
   "cell_type": "code",
   "execution_count": 3,
   "metadata": {
    "execution": {
     "iopub.execute_input": "2023-03-31T15:32:53.545988Z",
     "iopub.status.busy": "2023-03-31T15:32:53.545627Z",
     "iopub.status.idle": "2023-03-31T15:32:53.551400Z",
     "shell.execute_reply": "2023-03-31T15:32:53.550084Z",
     "shell.execute_reply.started": "2023-03-31T15:32:53.545954Z"
    }
   },
   "outputs": [],
   "source": [
    "# Creating a copy of the dataset\n",
    "data = df.copy()"
   ]
  },
  {
   "cell_type": "code",
   "execution_count": 4,
   "metadata": {
    "execution": {
     "iopub.execute_input": "2023-03-31T15:32:53.555409Z",
     "iopub.status.busy": "2023-03-31T15:32:53.554874Z",
     "iopub.status.idle": "2023-03-31T15:32:53.561980Z",
     "shell.execute_reply": "2023-03-31T15:32:53.560777Z",
     "shell.execute_reply.started": "2023-03-31T15:32:53.555354Z"
    }
   },
   "outputs": [
    {
     "name": "stdout",
     "output_type": "stream",
     "text": [
      "Number of rows in the data: 1000\n",
      "Number of columns in the data: 16\n"
     ]
    }
   ],
   "source": [
    "# Finding out the row and column\n",
    "print(\"Number of rows in the data:\", df.shape[0])\n",
    "print(\"Number of columns in the data:\", df.shape[1])"
   ]
  },
  {
   "cell_type": "code",
   "execution_count": 5,
   "metadata": {
    "execution": {
     "iopub.execute_input": "2023-03-31T15:32:53.563556Z",
     "iopub.status.busy": "2023-03-31T15:32:53.563154Z",
     "iopub.status.idle": "2023-03-31T15:32:53.585499Z",
     "shell.execute_reply": "2023-03-31T15:32:53.584413Z",
     "shell.execute_reply.started": "2023-03-31T15:32:53.563519Z"
    }
   },
   "outputs": [
    {
     "name": "stdout",
     "output_type": "stream",
     "text": [
      "<class 'pandas.core.frame.DataFrame'>\n",
      "RangeIndex: 1000 entries, 0 to 999\n",
      "Data columns (total 16 columns):\n",
      " #   Column         Non-Null Count  Dtype  \n",
      "---  ------         --------------  -----  \n",
      " 0   Poster_Link    1000 non-null   object \n",
      " 1   Series_Title   1000 non-null   object \n",
      " 2   Released_Year  1000 non-null   object \n",
      " 3   Certificate    899 non-null    object \n",
      " 4   Runtime        1000 non-null   object \n",
      " 5   Genre          1000 non-null   object \n",
      " 6   IMDB_Rating    1000 non-null   float64\n",
      " 7   Overview       1000 non-null   object \n",
      " 8   Meta_score     843 non-null    float64\n",
      " 9   Director       1000 non-null   object \n",
      " 10  Star1          1000 non-null   object \n",
      " 11  Star2          1000 non-null   object \n",
      " 12  Star3          1000 non-null   object \n",
      " 13  Star4          1000 non-null   object \n",
      " 14  No_of_Votes    1000 non-null   int64  \n",
      " 15  Gross          831 non-null    object \n",
      "dtypes: float64(2), int64(1), object(13)\n",
      "memory usage: 125.1+ KB\n"
     ]
    }
   ],
   "source": [
    "# To get Info (columns name, dtypes, etc) about the dataset\n",
    "df.info()"
   ]
  },
  {
   "cell_type": "markdown",
   "metadata": {},
   "source": [
    "# **ISSUES WE NOTICE:**\n",
    "* Meta_sscore, certificate and gross contains NA\n",
    "* Gross has incorrect dtype\n",
    "* Runtime contains 'min'\n",
    "* Removing the unnecessary info\n",
    "* Columns may contains garbage value\n",
    "* Checking for outliers"
   ]
  },
  {
   "cell_type": "code",
   "execution_count": 6,
   "metadata": {
    "execution": {
     "iopub.execute_input": "2023-03-31T15:32:53.587632Z",
     "iopub.status.busy": "2023-03-31T15:32:53.587181Z",
     "iopub.status.idle": "2023-03-31T15:32:53.614184Z",
     "shell.execute_reply": "2023-03-31T15:32:53.612801Z",
     "shell.execute_reply.started": "2023-03-31T15:32:53.587591Z"
    }
   },
   "outputs": [
    {
     "data": {
      "text/html": [
       "<div>\n",
       "<style scoped>\n",
       "    .dataframe tbody tr th:only-of-type {\n",
       "        vertical-align: middle;\n",
       "    }\n",
       "\n",
       "    .dataframe tbody tr th {\n",
       "        vertical-align: top;\n",
       "    }\n",
       "\n",
       "    .dataframe thead th {\n",
       "        text-align: right;\n",
       "    }\n",
       "</style>\n",
       "<table border=\"1\" class=\"dataframe\">\n",
       "  <thead>\n",
       "    <tr style=\"text-align: right;\">\n",
       "      <th></th>\n",
       "      <th>IMDB_Rating</th>\n",
       "      <th>Meta_score</th>\n",
       "      <th>No_of_Votes</th>\n",
       "    </tr>\n",
       "  </thead>\n",
       "  <tbody>\n",
       "    <tr>\n",
       "      <th>count</th>\n",
       "      <td>1000.000000</td>\n",
       "      <td>843.000000</td>\n",
       "      <td>1.000000e+03</td>\n",
       "    </tr>\n",
       "    <tr>\n",
       "      <th>mean</th>\n",
       "      <td>7.949300</td>\n",
       "      <td>77.971530</td>\n",
       "      <td>2.736929e+05</td>\n",
       "    </tr>\n",
       "    <tr>\n",
       "      <th>std</th>\n",
       "      <td>0.275491</td>\n",
       "      <td>12.376099</td>\n",
       "      <td>3.273727e+05</td>\n",
       "    </tr>\n",
       "    <tr>\n",
       "      <th>min</th>\n",
       "      <td>7.600000</td>\n",
       "      <td>28.000000</td>\n",
       "      <td>2.508800e+04</td>\n",
       "    </tr>\n",
       "    <tr>\n",
       "      <th>25%</th>\n",
       "      <td>7.700000</td>\n",
       "      <td>70.000000</td>\n",
       "      <td>5.552625e+04</td>\n",
       "    </tr>\n",
       "    <tr>\n",
       "      <th>50%</th>\n",
       "      <td>7.900000</td>\n",
       "      <td>79.000000</td>\n",
       "      <td>1.385485e+05</td>\n",
       "    </tr>\n",
       "    <tr>\n",
       "      <th>75%</th>\n",
       "      <td>8.100000</td>\n",
       "      <td>87.000000</td>\n",
       "      <td>3.741612e+05</td>\n",
       "    </tr>\n",
       "    <tr>\n",
       "      <th>max</th>\n",
       "      <td>9.300000</td>\n",
       "      <td>100.000000</td>\n",
       "      <td>2.343110e+06</td>\n",
       "    </tr>\n",
       "  </tbody>\n",
       "</table>\n",
       "</div>"
      ],
      "text/plain": [
       "       IMDB_Rating  Meta_score   No_of_Votes\n",
       "count  1000.000000  843.000000  1.000000e+03\n",
       "mean      7.949300   77.971530  2.736929e+05\n",
       "std       0.275491   12.376099  3.273727e+05\n",
       "min       7.600000   28.000000  2.508800e+04\n",
       "25%       7.700000   70.000000  5.552625e+04\n",
       "50%       7.900000   79.000000  1.385485e+05\n",
       "75%       8.100000   87.000000  3.741612e+05\n",
       "max       9.300000  100.000000  2.343110e+06"
      ]
     },
     "execution_count": 6,
     "metadata": {},
     "output_type": "execute_result"
    }
   ],
   "source": [
    "# To generate descriptive Satistic\n",
    "df.describe()"
   ]
  },
  {
   "cell_type": "code",
   "execution_count": 7,
   "metadata": {
    "execution": {
     "iopub.execute_input": "2023-03-31T15:32:53.615983Z",
     "iopub.status.busy": "2023-03-31T15:32:53.615490Z",
     "iopub.status.idle": "2023-03-31T15:32:53.629571Z",
     "shell.execute_reply": "2023-03-31T15:32:53.627821Z",
     "shell.execute_reply.started": "2023-03-31T15:32:53.615930Z"
    }
   },
   "outputs": [
    {
     "data": {
      "text/plain": [
       "Poster_Link        0\n",
       "Series_Title       0\n",
       "Released_Year      0\n",
       "Certificate      101\n",
       "Runtime            0\n",
       "Genre              0\n",
       "IMDB_Rating        0\n",
       "Overview           0\n",
       "Meta_score       157\n",
       "Director           0\n",
       "Star1              0\n",
       "Star2              0\n",
       "Star3              0\n",
       "Star4              0\n",
       "No_of_Votes        0\n",
       "Gross            169\n",
       "dtype: int64"
      ]
     },
     "execution_count": 7,
     "metadata": {},
     "output_type": "execute_result"
    }
   ],
   "source": [
    "# Number of NULLs\n",
    "df.isnull().sum()"
   ]
  },
  {
   "cell_type": "markdown",
   "metadata": {},
   "source": [
    "# **Dealing with NULL Values**"
   ]
  },
  {
   "cell_type": "code",
   "execution_count": 8,
   "metadata": {
    "execution": {
     "iopub.execute_input": "2023-03-31T15:32:53.631965Z",
     "iopub.status.busy": "2023-03-31T15:32:53.631554Z",
     "iopub.status.idle": "2023-03-31T15:32:53.643210Z",
     "shell.execute_reply": "2023-03-31T15:32:53.641638Z",
     "shell.execute_reply.started": "2023-03-31T15:32:53.631926Z"
    }
   },
   "outputs": [],
   "source": [
    "# Most frequent values\n",
    "mfv_gross = df['Gross'].value_counts().idxmax()\n",
    "mfv_certificate = df['Certificate'].value_counts().idxmax()\n",
    "mfv_metascore = df['Meta_score'].value_counts().idxmax()"
   ]
  },
  {
   "cell_type": "code",
   "execution_count": 9,
   "metadata": {
    "execution": {
     "iopub.execute_input": "2023-03-31T15:32:53.647121Z",
     "iopub.status.busy": "2023-03-31T15:32:53.646673Z",
     "iopub.status.idle": "2023-03-31T15:32:53.655963Z",
     "shell.execute_reply": "2023-03-31T15:32:53.654878Z",
     "shell.execute_reply.started": "2023-03-31T15:32:53.647080Z"
    }
   },
   "outputs": [],
   "source": [
    "# Replace the mode value with our missing values\n",
    "df['Gross'].replace(np.nan, mfv_gross, inplace =True)\n",
    "df['Meta_score'].replace(np.nan, mfv_metascore, inplace=True)\n",
    "df['Certificate'].replace(np.nan, mfv_certificate, inplace=True)"
   ]
  },
  {
   "cell_type": "code",
   "execution_count": 10,
   "metadata": {
    "execution": {
     "iopub.execute_input": "2023-03-31T15:32:53.735452Z",
     "iopub.status.busy": "2023-03-31T15:32:53.735025Z",
     "iopub.status.idle": "2023-03-31T15:32:53.747722Z",
     "shell.execute_reply": "2023-03-31T15:32:53.746408Z",
     "shell.execute_reply.started": "2023-03-31T15:32:53.735414Z"
    }
   },
   "outputs": [
    {
     "data": {
      "text/plain": [
       "Poster_Link      0\n",
       "Series_Title     0\n",
       "Released_Year    0\n",
       "Certificate      0\n",
       "Runtime          0\n",
       "Genre            0\n",
       "IMDB_Rating      0\n",
       "Overview         0\n",
       "Meta_score       0\n",
       "Director         0\n",
       "Star1            0\n",
       "Star2            0\n",
       "Star3            0\n",
       "Star4            0\n",
       "No_of_Votes      0\n",
       "Gross            0\n",
       "dtype: int64"
      ]
     },
     "execution_count": 10,
     "metadata": {},
     "output_type": "execute_result"
    }
   ],
   "source": [
    "# Checking for NULL values again\n",
    "df.isnull().sum()"
   ]
  },
  {
   "cell_type": "markdown",
   "metadata": {},
   "source": [
    "# **Correcting the format**\n",
    "* Gross and Runtime column"
   ]
  },
  {
   "cell_type": "code",
   "execution_count": 11,
   "metadata": {
    "execution": {
     "iopub.execute_input": "2023-03-31T15:32:53.751436Z",
     "iopub.status.busy": "2023-03-31T15:32:53.750269Z",
     "iopub.status.idle": "2023-03-31T15:32:53.760744Z",
     "shell.execute_reply": "2023-03-31T15:32:53.759348Z",
     "shell.execute_reply.started": "2023-03-31T15:32:53.751386Z"
    }
   },
   "outputs": [],
   "source": [
    "# Replacing ',' by ''\n",
    "df['Gross'] = df['Gross'].str.replace(',', '')\n",
    "# Changing the dtype\n",
    "df['Gross'] = df['Gross'].astype('int64')"
   ]
  },
  {
   "cell_type": "code",
   "execution_count": 12,
   "metadata": {
    "execution": {
     "iopub.execute_input": "2023-03-31T15:32:53.763374Z",
     "iopub.status.busy": "2023-03-31T15:32:53.762818Z",
     "iopub.status.idle": "2023-03-31T15:32:53.792182Z",
     "shell.execute_reply": "2023-03-31T15:32:53.790670Z",
     "shell.execute_reply.started": "2023-03-31T15:32:53.763289Z"
    }
   },
   "outputs": [
    {
     "name": "stdout",
     "output_type": "stream",
     "text": [
      "<class 'pandas.core.frame.DataFrame'>\n",
      "RangeIndex: 1000 entries, 0 to 999\n",
      "Data columns (total 16 columns):\n",
      " #   Column         Non-Null Count  Dtype  \n",
      "---  ------         --------------  -----  \n",
      " 0   Poster_Link    1000 non-null   object \n",
      " 1   Series_Title   1000 non-null   object \n",
      " 2   Released_Year  1000 non-null   object \n",
      " 3   Certificate    1000 non-null   object \n",
      " 4   Runtime        1000 non-null   int64  \n",
      " 5   Genre          1000 non-null   object \n",
      " 6   IMDB_Rating    1000 non-null   float64\n",
      " 7   Overview       1000 non-null   object \n",
      " 8   Meta_score     1000 non-null   float64\n",
      " 9   Director       1000 non-null   object \n",
      " 10  Star1          1000 non-null   object \n",
      " 11  Star2          1000 non-null   object \n",
      " 12  Star3          1000 non-null   object \n",
      " 13  Star4          1000 non-null   object \n",
      " 14  No_of_Votes    1000 non-null   int64  \n",
      " 15  Gross          1000 non-null   int64  \n",
      "dtypes: float64(2), int64(3), object(11)\n",
      "memory usage: 125.1+ KB\n"
     ]
    }
   ],
   "source": [
    "# Cleaning Runtime column\n",
    "df['Runtime'] = df['Runtime'].str.split(' ', expand = True)[0]\n",
    "df['Runtime'] = df['Runtime'].astype('int64')\n",
    "df.info()"
   ]
  },
  {
   "cell_type": "markdown",
   "metadata": {},
   "source": [
    "# **Dropping the unwanted column**"
   ]
  },
  {
   "cell_type": "code",
   "execution_count": 13,
   "metadata": {
    "execution": {
     "iopub.execute_input": "2023-03-31T15:32:53.794415Z",
     "iopub.status.busy": "2023-03-31T15:32:53.793971Z",
     "iopub.status.idle": "2023-03-31T15:32:53.820881Z",
     "shell.execute_reply": "2023-03-31T15:32:53.819644Z",
     "shell.execute_reply.started": "2023-03-31T15:32:53.794374Z"
    }
   },
   "outputs": [
    {
     "data": {
      "text/html": [
       "<div>\n",
       "<style scoped>\n",
       "    .dataframe tbody tr th:only-of-type {\n",
       "        vertical-align: middle;\n",
       "    }\n",
       "\n",
       "    .dataframe tbody tr th {\n",
       "        vertical-align: top;\n",
       "    }\n",
       "\n",
       "    .dataframe thead th {\n",
       "        text-align: right;\n",
       "    }\n",
       "</style>\n",
       "<table border=\"1\" class=\"dataframe\">\n",
       "  <thead>\n",
       "    <tr style=\"text-align: right;\">\n",
       "      <th></th>\n",
       "      <th>Series_Title</th>\n",
       "      <th>Released_Year</th>\n",
       "      <th>Certificate</th>\n",
       "      <th>Runtime</th>\n",
       "      <th>Genre</th>\n",
       "      <th>IMDB_Rating</th>\n",
       "      <th>Meta_score</th>\n",
       "      <th>Director</th>\n",
       "      <th>Star1</th>\n",
       "      <th>Star2</th>\n",
       "      <th>Star3</th>\n",
       "      <th>Star4</th>\n",
       "      <th>No_of_Votes</th>\n",
       "      <th>Gross</th>\n",
       "    </tr>\n",
       "  </thead>\n",
       "  <tbody>\n",
       "    <tr>\n",
       "      <th>0</th>\n",
       "      <td>The Shawshank Redemption</td>\n",
       "      <td>1994</td>\n",
       "      <td>A</td>\n",
       "      <td>142</td>\n",
       "      <td>Drama</td>\n",
       "      <td>9.3</td>\n",
       "      <td>80.0</td>\n",
       "      <td>Frank Darabont</td>\n",
       "      <td>Tim Robbins</td>\n",
       "      <td>Morgan Freeman</td>\n",
       "      <td>Bob Gunton</td>\n",
       "      <td>William Sadler</td>\n",
       "      <td>2343110</td>\n",
       "      <td>28341469</td>\n",
       "    </tr>\n",
       "    <tr>\n",
       "      <th>1</th>\n",
       "      <td>The Godfather</td>\n",
       "      <td>1972</td>\n",
       "      <td>A</td>\n",
       "      <td>175</td>\n",
       "      <td>Crime, Drama</td>\n",
       "      <td>9.2</td>\n",
       "      <td>100.0</td>\n",
       "      <td>Francis Ford Coppola</td>\n",
       "      <td>Marlon Brando</td>\n",
       "      <td>Al Pacino</td>\n",
       "      <td>James Caan</td>\n",
       "      <td>Diane Keaton</td>\n",
       "      <td>1620367</td>\n",
       "      <td>134966411</td>\n",
       "    </tr>\n",
       "    <tr>\n",
       "      <th>2</th>\n",
       "      <td>The Dark Knight</td>\n",
       "      <td>2008</td>\n",
       "      <td>UA</td>\n",
       "      <td>152</td>\n",
       "      <td>Action, Crime, Drama</td>\n",
       "      <td>9.0</td>\n",
       "      <td>84.0</td>\n",
       "      <td>Christopher Nolan</td>\n",
       "      <td>Christian Bale</td>\n",
       "      <td>Heath Ledger</td>\n",
       "      <td>Aaron Eckhart</td>\n",
       "      <td>Michael Caine</td>\n",
       "      <td>2303232</td>\n",
       "      <td>534858444</td>\n",
       "    </tr>\n",
       "    <tr>\n",
       "      <th>3</th>\n",
       "      <td>The Godfather: Part II</td>\n",
       "      <td>1974</td>\n",
       "      <td>A</td>\n",
       "      <td>202</td>\n",
       "      <td>Crime, Drama</td>\n",
       "      <td>9.0</td>\n",
       "      <td>90.0</td>\n",
       "      <td>Francis Ford Coppola</td>\n",
       "      <td>Al Pacino</td>\n",
       "      <td>Robert De Niro</td>\n",
       "      <td>Robert Duvall</td>\n",
       "      <td>Diane Keaton</td>\n",
       "      <td>1129952</td>\n",
       "      <td>57300000</td>\n",
       "    </tr>\n",
       "    <tr>\n",
       "      <th>4</th>\n",
       "      <td>12 Angry Men</td>\n",
       "      <td>1957</td>\n",
       "      <td>U</td>\n",
       "      <td>96</td>\n",
       "      <td>Crime, Drama</td>\n",
       "      <td>9.0</td>\n",
       "      <td>96.0</td>\n",
       "      <td>Sidney Lumet</td>\n",
       "      <td>Henry Fonda</td>\n",
       "      <td>Lee J. Cobb</td>\n",
       "      <td>Martin Balsam</td>\n",
       "      <td>John Fiedler</td>\n",
       "      <td>689845</td>\n",
       "      <td>4360000</td>\n",
       "    </tr>\n",
       "    <tr>\n",
       "      <th>5</th>\n",
       "      <td>The Lord of the Rings: The Return of the King</td>\n",
       "      <td>2003</td>\n",
       "      <td>U</td>\n",
       "      <td>201</td>\n",
       "      <td>Action, Adventure, Drama</td>\n",
       "      <td>8.9</td>\n",
       "      <td>94.0</td>\n",
       "      <td>Peter Jackson</td>\n",
       "      <td>Elijah Wood</td>\n",
       "      <td>Viggo Mortensen</td>\n",
       "      <td>Ian McKellen</td>\n",
       "      <td>Orlando Bloom</td>\n",
       "      <td>1642758</td>\n",
       "      <td>377845905</td>\n",
       "    </tr>\n",
       "    <tr>\n",
       "      <th>6</th>\n",
       "      <td>Pulp Fiction</td>\n",
       "      <td>1994</td>\n",
       "      <td>A</td>\n",
       "      <td>154</td>\n",
       "      <td>Crime, Drama</td>\n",
       "      <td>8.9</td>\n",
       "      <td>94.0</td>\n",
       "      <td>Quentin Tarantino</td>\n",
       "      <td>John Travolta</td>\n",
       "      <td>Uma Thurman</td>\n",
       "      <td>Samuel L. Jackson</td>\n",
       "      <td>Bruce Willis</td>\n",
       "      <td>1826188</td>\n",
       "      <td>107928762</td>\n",
       "    </tr>\n",
       "    <tr>\n",
       "      <th>7</th>\n",
       "      <td>Schindler's List</td>\n",
       "      <td>1993</td>\n",
       "      <td>A</td>\n",
       "      <td>195</td>\n",
       "      <td>Biography, Drama, History</td>\n",
       "      <td>8.9</td>\n",
       "      <td>94.0</td>\n",
       "      <td>Steven Spielberg</td>\n",
       "      <td>Liam Neeson</td>\n",
       "      <td>Ralph Fiennes</td>\n",
       "      <td>Ben Kingsley</td>\n",
       "      <td>Caroline Goodall</td>\n",
       "      <td>1213505</td>\n",
       "      <td>96898818</td>\n",
       "    </tr>\n",
       "    <tr>\n",
       "      <th>8</th>\n",
       "      <td>Inception</td>\n",
       "      <td>2010</td>\n",
       "      <td>UA</td>\n",
       "      <td>148</td>\n",
       "      <td>Action, Adventure, Sci-Fi</td>\n",
       "      <td>8.8</td>\n",
       "      <td>74.0</td>\n",
       "      <td>Christopher Nolan</td>\n",
       "      <td>Leonardo DiCaprio</td>\n",
       "      <td>Joseph Gordon-Levitt</td>\n",
       "      <td>Elliot Page</td>\n",
       "      <td>Ken Watanabe</td>\n",
       "      <td>2067042</td>\n",
       "      <td>292576195</td>\n",
       "    </tr>\n",
       "    <tr>\n",
       "      <th>9</th>\n",
       "      <td>Fight Club</td>\n",
       "      <td>1999</td>\n",
       "      <td>A</td>\n",
       "      <td>139</td>\n",
       "      <td>Drama</td>\n",
       "      <td>8.8</td>\n",
       "      <td>66.0</td>\n",
       "      <td>David Fincher</td>\n",
       "      <td>Brad Pitt</td>\n",
       "      <td>Edward Norton</td>\n",
       "      <td>Meat Loaf</td>\n",
       "      <td>Zach Grenier</td>\n",
       "      <td>1854740</td>\n",
       "      <td>37030102</td>\n",
       "    </tr>\n",
       "  </tbody>\n",
       "</table>\n",
       "</div>"
      ],
      "text/plain": [
       "                                    Series_Title Released_Year Certificate  \\\n",
       "0                       The Shawshank Redemption          1994           A   \n",
       "1                                  The Godfather          1972           A   \n",
       "2                                The Dark Knight          2008          UA   \n",
       "3                         The Godfather: Part II          1974           A   \n",
       "4                                   12 Angry Men          1957           U   \n",
       "5  The Lord of the Rings: The Return of the King          2003           U   \n",
       "6                                   Pulp Fiction          1994           A   \n",
       "7                               Schindler's List          1993           A   \n",
       "8                                      Inception          2010          UA   \n",
       "9                                     Fight Club          1999           A   \n",
       "\n",
       "   Runtime                      Genre  IMDB_Rating  Meta_score  \\\n",
       "0      142                      Drama          9.3        80.0   \n",
       "1      175               Crime, Drama          9.2       100.0   \n",
       "2      152       Action, Crime, Drama          9.0        84.0   \n",
       "3      202               Crime, Drama          9.0        90.0   \n",
       "4       96               Crime, Drama          9.0        96.0   \n",
       "5      201   Action, Adventure, Drama          8.9        94.0   \n",
       "6      154               Crime, Drama          8.9        94.0   \n",
       "7      195  Biography, Drama, History          8.9        94.0   \n",
       "8      148  Action, Adventure, Sci-Fi          8.8        74.0   \n",
       "9      139                      Drama          8.8        66.0   \n",
       "\n",
       "               Director              Star1                 Star2  \\\n",
       "0        Frank Darabont        Tim Robbins        Morgan Freeman   \n",
       "1  Francis Ford Coppola      Marlon Brando             Al Pacino   \n",
       "2     Christopher Nolan     Christian Bale          Heath Ledger   \n",
       "3  Francis Ford Coppola          Al Pacino        Robert De Niro   \n",
       "4          Sidney Lumet        Henry Fonda           Lee J. Cobb   \n",
       "5         Peter Jackson        Elijah Wood       Viggo Mortensen   \n",
       "6     Quentin Tarantino      John Travolta           Uma Thurman   \n",
       "7      Steven Spielberg        Liam Neeson         Ralph Fiennes   \n",
       "8     Christopher Nolan  Leonardo DiCaprio  Joseph Gordon-Levitt   \n",
       "9         David Fincher          Brad Pitt         Edward Norton   \n",
       "\n",
       "               Star3             Star4  No_of_Votes      Gross  \n",
       "0         Bob Gunton    William Sadler      2343110   28341469  \n",
       "1         James Caan      Diane Keaton      1620367  134966411  \n",
       "2      Aaron Eckhart     Michael Caine      2303232  534858444  \n",
       "3      Robert Duvall      Diane Keaton      1129952   57300000  \n",
       "4      Martin Balsam      John Fiedler       689845    4360000  \n",
       "5       Ian McKellen     Orlando Bloom      1642758  377845905  \n",
       "6  Samuel L. Jackson      Bruce Willis      1826188  107928762  \n",
       "7       Ben Kingsley  Caroline Goodall      1213505   96898818  \n",
       "8        Elliot Page      Ken Watanabe      2067042  292576195  \n",
       "9          Meat Loaf      Zach Grenier      1854740   37030102  "
      ]
     },
     "execution_count": 13,
     "metadata": {},
     "output_type": "execute_result"
    }
   ],
   "source": [
    "# Dropping the column \n",
    "df.drop(['Poster_Link', 'Overview'], axis = 1, inplace =True)\n",
    "df.head(10)"
   ]
  },
  {
   "cell_type": "markdown",
   "metadata": {},
   "source": [
    "# **Checking of garbage values in the column**\n",
    "* Released_Year\n"
   ]
  },
  {
   "cell_type": "code",
   "execution_count": 14,
   "metadata": {
    "execution": {
     "iopub.execute_input": "2023-03-31T15:32:53.824501Z",
     "iopub.status.busy": "2023-03-31T15:32:53.824090Z",
     "iopub.status.idle": "2023-03-31T15:32:53.837073Z",
     "shell.execute_reply": "2023-03-31T15:32:53.835587Z",
     "shell.execute_reply.started": "2023-03-31T15:32:53.824464Z"
    }
   },
   "outputs": [
    {
     "data": {
      "text/plain": [
       "2014    32\n",
       "2004    31\n",
       "2009    29\n",
       "2013    28\n",
       "2016    28\n",
       "        ..\n",
       "1926     1\n",
       "1936     1\n",
       "1924     1\n",
       "1921     1\n",
       "PG       1\n",
       "Name: Released_Year, Length: 100, dtype: int64"
      ]
     },
     "execution_count": 14,
     "metadata": {},
     "output_type": "execute_result"
    }
   ],
   "source": [
    "df['Released_Year'].value_counts()"
   ]
  },
  {
   "cell_type": "code",
   "execution_count": 15,
   "metadata": {
    "execution": {
     "iopub.execute_input": "2023-03-31T15:32:53.840524Z",
     "iopub.status.busy": "2023-03-31T15:32:53.839373Z",
     "iopub.status.idle": "2023-03-31T15:32:53.860648Z",
     "shell.execute_reply": "2023-03-31T15:32:53.858839Z",
     "shell.execute_reply.started": "2023-03-31T15:32:53.840466Z"
    }
   },
   "outputs": [
    {
     "data": {
      "text/html": [
       "<div>\n",
       "<style scoped>\n",
       "    .dataframe tbody tr th:only-of-type {\n",
       "        vertical-align: middle;\n",
       "    }\n",
       "\n",
       "    .dataframe tbody tr th {\n",
       "        vertical-align: top;\n",
       "    }\n",
       "\n",
       "    .dataframe thead th {\n",
       "        text-align: right;\n",
       "    }\n",
       "</style>\n",
       "<table border=\"1\" class=\"dataframe\">\n",
       "  <thead>\n",
       "    <tr style=\"text-align: right;\">\n",
       "      <th></th>\n",
       "      <th>Series_Title</th>\n",
       "      <th>Released_Year</th>\n",
       "      <th>Certificate</th>\n",
       "      <th>Runtime</th>\n",
       "      <th>Genre</th>\n",
       "      <th>IMDB_Rating</th>\n",
       "      <th>Meta_score</th>\n",
       "      <th>Director</th>\n",
       "      <th>Star1</th>\n",
       "      <th>Star2</th>\n",
       "      <th>Star3</th>\n",
       "      <th>Star4</th>\n",
       "      <th>No_of_Votes</th>\n",
       "      <th>Gross</th>\n",
       "    </tr>\n",
       "  </thead>\n",
       "  <tbody>\n",
       "    <tr>\n",
       "      <th>966</th>\n",
       "      <td>Apollo 13</td>\n",
       "      <td>PG</td>\n",
       "      <td>U</td>\n",
       "      <td>140</td>\n",
       "      <td>Adventure, Drama, History</td>\n",
       "      <td>7.6</td>\n",
       "      <td>77.0</td>\n",
       "      <td>Ron Howard</td>\n",
       "      <td>Tom Hanks</td>\n",
       "      <td>Bill Paxton</td>\n",
       "      <td>Kevin Bacon</td>\n",
       "      <td>Gary Sinise</td>\n",
       "      <td>269197</td>\n",
       "      <td>173837933</td>\n",
       "    </tr>\n",
       "  </tbody>\n",
       "</table>\n",
       "</div>"
      ],
      "text/plain": [
       "    Series_Title Released_Year Certificate  Runtime  \\\n",
       "966    Apollo 13            PG           U      140   \n",
       "\n",
       "                         Genre  IMDB_Rating  Meta_score    Director  \\\n",
       "966  Adventure, Drama, History          7.6        77.0  Ron Howard   \n",
       "\n",
       "         Star1        Star2        Star3        Star4  No_of_Votes      Gross  \n",
       "966  Tom Hanks  Bill Paxton  Kevin Bacon  Gary Sinise       269197  173837933  "
      ]
     },
     "execution_count": 15,
     "metadata": {},
     "output_type": "execute_result"
    }
   ],
   "source": [
    "# Find the index of the rows that contains PG\n",
    "df.loc[df['Released_Year'] == 'PG']"
   ]
  },
  {
   "cell_type": "code",
   "execution_count": 16,
   "metadata": {
    "execution": {
     "iopub.execute_input": "2023-03-31T15:32:53.863144Z",
     "iopub.status.busy": "2023-03-31T15:32:53.862729Z",
     "iopub.status.idle": "2023-03-31T15:32:53.877628Z",
     "shell.execute_reply": "2023-03-31T15:32:53.876093Z",
     "shell.execute_reply.started": "2023-03-31T15:32:53.863105Z"
    }
   },
   "outputs": [
    {
     "data": {
      "text/plain": [
       "0      1994\n",
       "1      1972\n",
       "2      2008\n",
       "3      1974\n",
       "4      1957\n",
       "       ... \n",
       "995    1961\n",
       "996    1956\n",
       "997    1953\n",
       "998    1944\n",
       "999    1935\n",
       "Name: Released_Year, Length: 999, dtype: int64"
      ]
     },
     "execution_count": 16,
     "metadata": {},
     "output_type": "execute_result"
    }
   ],
   "source": [
    "# Dropping the row\n",
    "df= df[df[\"Released_Year\"].str.contains(\"PG\") == False]\n",
    "df['Released_Year'].reset_index(drop=True)\n",
    "df['Released_Year'].astype('int64')"
   ]
  },
  {
   "cell_type": "code",
   "execution_count": 17,
   "metadata": {
    "execution": {
     "iopub.execute_input": "2023-03-31T15:32:53.880528Z",
     "iopub.status.busy": "2023-03-31T15:32:53.879661Z",
     "iopub.status.idle": "2023-03-31T15:32:53.902430Z",
     "shell.execute_reply": "2023-03-31T15:32:53.900906Z",
     "shell.execute_reply.started": "2023-03-31T15:32:53.880486Z"
    }
   },
   "outputs": [
    {
     "data": {
      "text/html": [
       "<div>\n",
       "<style scoped>\n",
       "    .dataframe tbody tr th:only-of-type {\n",
       "        vertical-align: middle;\n",
       "    }\n",
       "\n",
       "    .dataframe tbody tr th {\n",
       "        vertical-align: top;\n",
       "    }\n",
       "\n",
       "    .dataframe thead th {\n",
       "        text-align: right;\n",
       "    }\n",
       "</style>\n",
       "<table border=\"1\" class=\"dataframe\">\n",
       "  <thead>\n",
       "    <tr style=\"text-align: right;\">\n",
       "      <th></th>\n",
       "      <th>Series_Title</th>\n",
       "      <th>Released_Year</th>\n",
       "      <th>Certificate</th>\n",
       "      <th>Runtime</th>\n",
       "      <th>Genre</th>\n",
       "      <th>IMDB_Rating</th>\n",
       "      <th>Meta_score</th>\n",
       "      <th>Director</th>\n",
       "      <th>Star1</th>\n",
       "      <th>Star2</th>\n",
       "      <th>Star3</th>\n",
       "      <th>Star4</th>\n",
       "      <th>No_of_Votes</th>\n",
       "      <th>Gross</th>\n",
       "    </tr>\n",
       "  </thead>\n",
       "  <tbody>\n",
       "    <tr>\n",
       "      <th>0</th>\n",
       "      <td>The Shawshank Redemption</td>\n",
       "      <td>1994</td>\n",
       "      <td>A</td>\n",
       "      <td>142</td>\n",
       "      <td>Drama</td>\n",
       "      <td>9.3</td>\n",
       "      <td>80.0</td>\n",
       "      <td>Frank Darabont</td>\n",
       "      <td>Tim Robbins</td>\n",
       "      <td>Morgan Freeman</td>\n",
       "      <td>Bob Gunton</td>\n",
       "      <td>William Sadler</td>\n",
       "      <td>2343110</td>\n",
       "      <td>28341469</td>\n",
       "    </tr>\n",
       "    <tr>\n",
       "      <th>1</th>\n",
       "      <td>The Godfather</td>\n",
       "      <td>1972</td>\n",
       "      <td>A</td>\n",
       "      <td>175</td>\n",
       "      <td>Crime, Drama</td>\n",
       "      <td>9.2</td>\n",
       "      <td>100.0</td>\n",
       "      <td>Francis Ford Coppola</td>\n",
       "      <td>Marlon Brando</td>\n",
       "      <td>Al Pacino</td>\n",
       "      <td>James Caan</td>\n",
       "      <td>Diane Keaton</td>\n",
       "      <td>1620367</td>\n",
       "      <td>134966411</td>\n",
       "    </tr>\n",
       "    <tr>\n",
       "      <th>2</th>\n",
       "      <td>The Dark Knight</td>\n",
       "      <td>2008</td>\n",
       "      <td>UA</td>\n",
       "      <td>152</td>\n",
       "      <td>Action, Crime, Drama</td>\n",
       "      <td>9.0</td>\n",
       "      <td>84.0</td>\n",
       "      <td>Christopher Nolan</td>\n",
       "      <td>Christian Bale</td>\n",
       "      <td>Heath Ledger</td>\n",
       "      <td>Aaron Eckhart</td>\n",
       "      <td>Michael Caine</td>\n",
       "      <td>2303232</td>\n",
       "      <td>534858444</td>\n",
       "    </tr>\n",
       "    <tr>\n",
       "      <th>3</th>\n",
       "      <td>The Godfather: Part II</td>\n",
       "      <td>1974</td>\n",
       "      <td>A</td>\n",
       "      <td>202</td>\n",
       "      <td>Crime, Drama</td>\n",
       "      <td>9.0</td>\n",
       "      <td>90.0</td>\n",
       "      <td>Francis Ford Coppola</td>\n",
       "      <td>Al Pacino</td>\n",
       "      <td>Robert De Niro</td>\n",
       "      <td>Robert Duvall</td>\n",
       "      <td>Diane Keaton</td>\n",
       "      <td>1129952</td>\n",
       "      <td>57300000</td>\n",
       "    </tr>\n",
       "    <tr>\n",
       "      <th>4</th>\n",
       "      <td>12 Angry Men</td>\n",
       "      <td>1957</td>\n",
       "      <td>U</td>\n",
       "      <td>96</td>\n",
       "      <td>Crime, Drama</td>\n",
       "      <td>9.0</td>\n",
       "      <td>96.0</td>\n",
       "      <td>Sidney Lumet</td>\n",
       "      <td>Henry Fonda</td>\n",
       "      <td>Lee J. Cobb</td>\n",
       "      <td>Martin Balsam</td>\n",
       "      <td>John Fiedler</td>\n",
       "      <td>689845</td>\n",
       "      <td>4360000</td>\n",
       "    </tr>\n",
       "  </tbody>\n",
       "</table>\n",
       "</div>"
      ],
      "text/plain": [
       "               Series_Title Released_Year Certificate  Runtime  \\\n",
       "0  The Shawshank Redemption          1994           A      142   \n",
       "1             The Godfather          1972           A      175   \n",
       "2           The Dark Knight          2008          UA      152   \n",
       "3    The Godfather: Part II          1974           A      202   \n",
       "4              12 Angry Men          1957           U       96   \n",
       "\n",
       "                  Genre  IMDB_Rating  Meta_score              Director  \\\n",
       "0                 Drama          9.3        80.0        Frank Darabont   \n",
       "1          Crime, Drama          9.2       100.0  Francis Ford Coppola   \n",
       "2  Action, Crime, Drama          9.0        84.0     Christopher Nolan   \n",
       "3          Crime, Drama          9.0        90.0  Francis Ford Coppola   \n",
       "4          Crime, Drama          9.0        96.0          Sidney Lumet   \n",
       "\n",
       "            Star1           Star2          Star3           Star4  No_of_Votes  \\\n",
       "0     Tim Robbins  Morgan Freeman     Bob Gunton  William Sadler      2343110   \n",
       "1   Marlon Brando       Al Pacino     James Caan    Diane Keaton      1620367   \n",
       "2  Christian Bale    Heath Ledger  Aaron Eckhart   Michael Caine      2303232   \n",
       "3       Al Pacino  Robert De Niro  Robert Duvall    Diane Keaton      1129952   \n",
       "4     Henry Fonda     Lee J. Cobb  Martin Balsam    John Fiedler       689845   \n",
       "\n",
       "       Gross  \n",
       "0   28341469  \n",
       "1  134966411  \n",
       "2  534858444  \n",
       "3   57300000  \n",
       "4    4360000  "
      ]
     },
     "execution_count": 17,
     "metadata": {},
     "output_type": "execute_result"
    }
   ],
   "source": [
    "df.head()"
   ]
  },
  {
   "cell_type": "markdown",
   "metadata": {},
   "source": [
    "# **Feature engineering**\n",
    "* Column cast is derived from columns Star1,Star2, Star3 and Star4 and dropping them\n",
    "* Dealing with outliers\n"
   ]
  },
  {
   "cell_type": "code",
   "execution_count": 18,
   "metadata": {
    "execution": {
     "iopub.execute_input": "2023-03-31T15:32:53.904428Z",
     "iopub.status.busy": "2023-03-31T15:32:53.904025Z",
     "iopub.status.idle": "2023-03-31T15:32:53.938824Z",
     "shell.execute_reply": "2023-03-31T15:32:53.937398Z",
     "shell.execute_reply.started": "2023-03-31T15:32:53.904375Z"
    }
   },
   "outputs": [
    {
     "data": {
      "text/html": [
       "<div>\n",
       "<style scoped>\n",
       "    .dataframe tbody tr th:only-of-type {\n",
       "        vertical-align: middle;\n",
       "    }\n",
       "\n",
       "    .dataframe tbody tr th {\n",
       "        vertical-align: top;\n",
       "    }\n",
       "\n",
       "    .dataframe thead th {\n",
       "        text-align: right;\n",
       "    }\n",
       "</style>\n",
       "<table border=\"1\" class=\"dataframe\">\n",
       "  <thead>\n",
       "    <tr style=\"text-align: right;\">\n",
       "      <th></th>\n",
       "      <th>Runtime</th>\n",
       "      <th>IMDB_Rating</th>\n",
       "      <th>Meta_score</th>\n",
       "      <th>No_of_Votes</th>\n",
       "      <th>Gross</th>\n",
       "    </tr>\n",
       "  </thead>\n",
       "  <tbody>\n",
       "    <tr>\n",
       "      <th>count</th>\n",
       "      <td>999.000000</td>\n",
       "      <td>999.000000</td>\n",
       "      <td>999.000000</td>\n",
       "      <td>9.990000e+02</td>\n",
       "      <td>9.990000e+02</td>\n",
       "    </tr>\n",
       "    <tr>\n",
       "      <th>mean</th>\n",
       "      <td>122.873874</td>\n",
       "      <td>7.949650</td>\n",
       "      <td>77.662663</td>\n",
       "      <td>2.736974e+05</td>\n",
       "      <td>5.715704e+07</td>\n",
       "    </tr>\n",
       "    <tr>\n",
       "      <th>std</th>\n",
       "      <td>28.102520</td>\n",
       "      <td>0.275407</td>\n",
       "      <td>11.390382</td>\n",
       "      <td>3.275366e+05</td>\n",
       "      <td>1.028317e+08</td>\n",
       "    </tr>\n",
       "    <tr>\n",
       "      <th>min</th>\n",
       "      <td>45.000000</td>\n",
       "      <td>7.600000</td>\n",
       "      <td>28.000000</td>\n",
       "      <td>2.508800e+04</td>\n",
       "      <td>1.305000e+03</td>\n",
       "    </tr>\n",
       "    <tr>\n",
       "      <th>25%</th>\n",
       "      <td>103.000000</td>\n",
       "      <td>7.700000</td>\n",
       "      <td>72.000000</td>\n",
       "      <td>5.547150e+04</td>\n",
       "      <td>4.360000e+06</td>\n",
       "    </tr>\n",
       "    <tr>\n",
       "      <th>50%</th>\n",
       "      <td>119.000000</td>\n",
       "      <td>7.900000</td>\n",
       "      <td>76.000000</td>\n",
       "      <td>1.383560e+05</td>\n",
       "      <td>1.068028e+07</td>\n",
       "    </tr>\n",
       "    <tr>\n",
       "      <th>75%</th>\n",
       "      <td>137.000000</td>\n",
       "      <td>8.100000</td>\n",
       "      <td>85.500000</td>\n",
       "      <td>3.744775e+05</td>\n",
       "      <td>6.139004e+07</td>\n",
       "    </tr>\n",
       "    <tr>\n",
       "      <th>max</th>\n",
       "      <td>321.000000</td>\n",
       "      <td>9.300000</td>\n",
       "      <td>100.000000</td>\n",
       "      <td>2.343110e+06</td>\n",
       "      <td>9.366622e+08</td>\n",
       "    </tr>\n",
       "  </tbody>\n",
       "</table>\n",
       "</div>"
      ],
      "text/plain": [
       "          Runtime  IMDB_Rating  Meta_score   No_of_Votes         Gross\n",
       "count  999.000000   999.000000  999.000000  9.990000e+02  9.990000e+02\n",
       "mean   122.873874     7.949650   77.662663  2.736974e+05  5.715704e+07\n",
       "std     28.102520     0.275407   11.390382  3.275366e+05  1.028317e+08\n",
       "min     45.000000     7.600000   28.000000  2.508800e+04  1.305000e+03\n",
       "25%    103.000000     7.700000   72.000000  5.547150e+04  4.360000e+06\n",
       "50%    119.000000     7.900000   76.000000  1.383560e+05  1.068028e+07\n",
       "75%    137.000000     8.100000   85.500000  3.744775e+05  6.139004e+07\n",
       "max    321.000000     9.300000  100.000000  2.343110e+06  9.366622e+08"
      ]
     },
     "execution_count": 18,
     "metadata": {},
     "output_type": "execute_result"
    }
   ],
   "source": [
    "df.describe()"
   ]
  },
  {
   "cell_type": "code",
   "execution_count": 19,
   "metadata": {
    "execution": {
     "iopub.execute_input": "2023-03-31T15:32:53.943009Z",
     "iopub.status.busy": "2023-03-31T15:32:53.942586Z",
     "iopub.status.idle": "2023-03-31T15:32:53.959681Z",
     "shell.execute_reply": "2023-03-31T15:32:53.957894Z",
     "shell.execute_reply.started": "2023-03-31T15:32:53.942971Z"
    }
   },
   "outputs": [
    {
     "name": "stdout",
     "output_type": "stream",
     "text": [
      "<class 'pandas.core.frame.DataFrame'>\n",
      "Int64Index: 999 entries, 0 to 999\n",
      "Data columns (total 14 columns):\n",
      " #   Column         Non-Null Count  Dtype  \n",
      "---  ------         --------------  -----  \n",
      " 0   Series_Title   999 non-null    object \n",
      " 1   Released_Year  999 non-null    object \n",
      " 2   Certificate    999 non-null    object \n",
      " 3   Runtime        999 non-null    int64  \n",
      " 4   Genre          999 non-null    object \n",
      " 5   IMDB_Rating    999 non-null    float64\n",
      " 6   Meta_score     999 non-null    float64\n",
      " 7   Director       999 non-null    object \n",
      " 8   Star1          999 non-null    object \n",
      " 9   Star2          999 non-null    object \n",
      " 10  Star3          999 non-null    object \n",
      " 11  Star4          999 non-null    object \n",
      " 12  No_of_Votes    999 non-null    int64  \n",
      " 13  Gross          999 non-null    int64  \n",
      "dtypes: float64(2), int64(3), object(9)\n",
      "memory usage: 117.1+ KB\n"
     ]
    }
   ],
   "source": [
    "df.info()"
   ]
  },
  {
   "cell_type": "code",
   "execution_count": 20,
   "metadata": {
    "execution": {
     "iopub.execute_input": "2023-03-31T15:32:53.962155Z",
     "iopub.status.busy": "2023-03-31T15:32:53.961788Z",
     "iopub.status.idle": "2023-03-31T15:32:53.986690Z",
     "shell.execute_reply": "2023-03-31T15:32:53.985053Z",
     "shell.execute_reply.started": "2023-03-31T15:32:53.962121Z"
    }
   },
   "outputs": [
    {
     "data": {
      "text/html": [
       "<div>\n",
       "<style scoped>\n",
       "    .dataframe tbody tr th:only-of-type {\n",
       "        vertical-align: middle;\n",
       "    }\n",
       "\n",
       "    .dataframe tbody tr th {\n",
       "        vertical-align: top;\n",
       "    }\n",
       "\n",
       "    .dataframe thead th {\n",
       "        text-align: right;\n",
       "    }\n",
       "</style>\n",
       "<table border=\"1\" class=\"dataframe\">\n",
       "  <thead>\n",
       "    <tr style=\"text-align: right;\">\n",
       "      <th></th>\n",
       "      <th>Series_Title</th>\n",
       "      <th>Released_Year</th>\n",
       "      <th>Certificate</th>\n",
       "      <th>Runtime</th>\n",
       "      <th>Genre</th>\n",
       "      <th>IMDB_Rating</th>\n",
       "      <th>Meta_score</th>\n",
       "      <th>Director</th>\n",
       "      <th>No_of_Votes</th>\n",
       "      <th>Gross</th>\n",
       "      <th>Cast</th>\n",
       "    </tr>\n",
       "  </thead>\n",
       "  <tbody>\n",
       "    <tr>\n",
       "      <th>0</th>\n",
       "      <td>The Shawshank Redemption</td>\n",
       "      <td>1994</td>\n",
       "      <td>A</td>\n",
       "      <td>142</td>\n",
       "      <td>Drama</td>\n",
       "      <td>9.3</td>\n",
       "      <td>80.0</td>\n",
       "      <td>Frank Darabont</td>\n",
       "      <td>2343110</td>\n",
       "      <td>28341469</td>\n",
       "      <td>Tim Robbins Morgan Freeman Bob Gunton William ...</td>\n",
       "    </tr>\n",
       "    <tr>\n",
       "      <th>1</th>\n",
       "      <td>The Godfather</td>\n",
       "      <td>1972</td>\n",
       "      <td>A</td>\n",
       "      <td>175</td>\n",
       "      <td>Crime, Drama</td>\n",
       "      <td>9.2</td>\n",
       "      <td>100.0</td>\n",
       "      <td>Francis Ford Coppola</td>\n",
       "      <td>1620367</td>\n",
       "      <td>134966411</td>\n",
       "      <td>Marlon Brando Al Pacino James Caan Diane Keaton</td>\n",
       "    </tr>\n",
       "    <tr>\n",
       "      <th>2</th>\n",
       "      <td>The Dark Knight</td>\n",
       "      <td>2008</td>\n",
       "      <td>UA</td>\n",
       "      <td>152</td>\n",
       "      <td>Action, Crime, Drama</td>\n",
       "      <td>9.0</td>\n",
       "      <td>84.0</td>\n",
       "      <td>Christopher Nolan</td>\n",
       "      <td>2303232</td>\n",
       "      <td>534858444</td>\n",
       "      <td>Christian Bale Heath Ledger Aaron Eckhart Mich...</td>\n",
       "    </tr>\n",
       "    <tr>\n",
       "      <th>3</th>\n",
       "      <td>The Godfather: Part II</td>\n",
       "      <td>1974</td>\n",
       "      <td>A</td>\n",
       "      <td>202</td>\n",
       "      <td>Crime, Drama</td>\n",
       "      <td>9.0</td>\n",
       "      <td>90.0</td>\n",
       "      <td>Francis Ford Coppola</td>\n",
       "      <td>1129952</td>\n",
       "      <td>57300000</td>\n",
       "      <td>Al Pacino Robert De Niro Robert Duvall Diane K...</td>\n",
       "    </tr>\n",
       "    <tr>\n",
       "      <th>4</th>\n",
       "      <td>12 Angry Men</td>\n",
       "      <td>1957</td>\n",
       "      <td>U</td>\n",
       "      <td>96</td>\n",
       "      <td>Crime, Drama</td>\n",
       "      <td>9.0</td>\n",
       "      <td>96.0</td>\n",
       "      <td>Sidney Lumet</td>\n",
       "      <td>689845</td>\n",
       "      <td>4360000</td>\n",
       "      <td>Henry Fonda Lee J. Cobb Martin Balsam John Fie...</td>\n",
       "    </tr>\n",
       "  </tbody>\n",
       "</table>\n",
       "</div>"
      ],
      "text/plain": [
       "               Series_Title Released_Year Certificate  Runtime  \\\n",
       "0  The Shawshank Redemption          1994           A      142   \n",
       "1             The Godfather          1972           A      175   \n",
       "2           The Dark Knight          2008          UA      152   \n",
       "3    The Godfather: Part II          1974           A      202   \n",
       "4              12 Angry Men          1957           U       96   \n",
       "\n",
       "                  Genre  IMDB_Rating  Meta_score              Director  \\\n",
       "0                 Drama          9.3        80.0        Frank Darabont   \n",
       "1          Crime, Drama          9.2       100.0  Francis Ford Coppola   \n",
       "2  Action, Crime, Drama          9.0        84.0     Christopher Nolan   \n",
       "3          Crime, Drama          9.0        90.0  Francis Ford Coppola   \n",
       "4          Crime, Drama          9.0        96.0          Sidney Lumet   \n",
       "\n",
       "   No_of_Votes      Gross                                               Cast  \n",
       "0      2343110   28341469  Tim Robbins Morgan Freeman Bob Gunton William ...  \n",
       "1      1620367  134966411    Marlon Brando Al Pacino James Caan Diane Keaton  \n",
       "2      2303232  534858444  Christian Bale Heath Ledger Aaron Eckhart Mich...  \n",
       "3      1129952   57300000  Al Pacino Robert De Niro Robert Duvall Diane K...  \n",
       "4       689845    4360000  Henry Fonda Lee J. Cobb Martin Balsam John Fie...  "
      ]
     },
     "execution_count": 20,
     "metadata": {},
     "output_type": "execute_result"
    }
   ],
   "source": [
    "# Combining the features into one feature\n",
    "df['Cast'] = df['Star1'] +\" \"+ df['Star2'] +\" \"+ df['Star3'] +\" \"+ df['Star4']\n",
    "df = df.drop(['Star1', 'Star2', 'Star3', 'Star4'], axis =1)\n",
    "\n",
    "df.head()"
   ]
  },
  {
   "cell_type": "code",
   "execution_count": 21,
   "metadata": {
    "execution": {
     "iopub.execute_input": "2023-03-31T15:32:53.989533Z",
     "iopub.status.busy": "2023-03-31T15:32:53.988969Z",
     "iopub.status.idle": "2023-03-31T15:32:54.339919Z",
     "shell.execute_reply": "2023-03-31T15:32:54.338745Z",
     "shell.execute_reply.started": "2023-03-31T15:32:53.989475Z"
    }
   },
   "outputs": [
    {
     "data": {
      "text/plain": [
       "<seaborn.axisgrid.FacetGrid at 0x7f8aca75b790>"
      ]
     },
     "execution_count": 21,
     "metadata": {},
     "output_type": "execute_result"
    },
    {
     "data": {
      "image/png": "[encoded data removed]",
      "text/plain": [
       "<Figure size 360x360 with 1 Axes>"
      ]
     },
     "metadata": {
      "needs_background": "light"
     },
     "output_type": "display_data"
    }
   ],
   "source": [
    "sns.displot(df['Meta_score'],kind='kde')"
   ]
  },
  {
   "cell_type": "markdown",
   "metadata": {},
   "source": [
    "# **Reciprocal Transformation**\n",
    "* To make the distribution more normally distributed\n"
   ]
  },
  {
   "cell_type": "code",
   "execution_count": 22,
   "metadata": {
    "execution": {
     "iopub.execute_input": "2023-03-31T15:32:54.341358Z",
     "iopub.status.busy": "2023-03-31T15:32:54.340957Z",
     "iopub.status.idle": "2023-03-31T15:32:54.348636Z",
     "shell.execute_reply": "2023-03-31T15:32:54.347238Z",
     "shell.execute_reply.started": "2023-03-31T15:32:54.341306Z"
    }
   },
   "outputs": [],
   "source": [
    "df['Meta_score'] = 1/df['Meta_score']"
   ]
  },
  {
   "cell_type": "code",
   "execution_count": 23,
   "metadata": {
    "execution": {
     "iopub.execute_input": "2023-03-31T15:32:54.355076Z",
     "iopub.status.busy": "2023-03-31T15:32:54.354650Z",
     "iopub.status.idle": "2023-03-31T15:32:54.562159Z",
     "shell.execute_reply": "2023-03-31T15:32:54.561135Z",
     "shell.execute_reply.started": "2023-03-31T15:32:54.355037Z"
    }
   },
   "outputs": [
    {
     "data": {
      "text/plain": [
       "<AxesSubplot:xlabel='Meta_score'>"
      ]
     },
     "execution_count": 23,
     "metadata": {},
     "output_type": "execute_result"
    },
    {
     "data": {
      "image/png": "[encoded data removed]",
      "text/plain": [
       "<Figure size 432x288 with 1 Axes>"
      ]
     },
     "metadata": {
      "needs_background": "light"
     },
     "output_type": "display_data"
    }
   ],
   "source": [
    "sns.boxplot(x=df['Meta_score'])"
   ]
  },
  {
   "cell_type": "code",
   "execution_count": 24,
   "metadata": {
    "execution": {
     "iopub.execute_input": "2023-03-31T15:32:54.563999Z",
     "iopub.status.busy": "2023-03-31T15:32:54.563366Z",
     "iopub.status.idle": "2023-03-31T15:32:54.780605Z",
     "shell.execute_reply": "2023-03-31T15:32:54.779509Z",
     "shell.execute_reply.started": "2023-03-31T15:32:54.563960Z"
    }
   },
   "outputs": [
    {
     "data": {
      "text/plain": [
       "<AxesSubplot:xlabel='Meta_score'>"
      ]
     },
     "execution_count": 24,
     "metadata": {},
     "output_type": "execute_result"
    },
    {
     "data": {
      "image/png": "[encoded data removed]",
      "text/plain": [
       "<Figure size 432x288 with 1 Axes>"
      ]
     },
     "metadata": {
      "needs_background": "light"
     },
     "output_type": "display_data"
    }
   ],
   "source": [
    "def drop_outliers(df, field_name):\n",
    "    iqr = 1.5 * (np.percentile(df[field_name], 75) - np.percentile(df[field_name], 25))\n",
    "    df.drop(df[df[field_name] > (iqr + np.percentile(df [field_name], 75)) ].index, inplace=True) \n",
    "    df.drop(df[df[field_name] < (np.percentile(df [field_name], 25) - iqr)].index, inplace=True)\n",
    "drop_outliers (df, 'Meta_score')\n",
    "\n",
    "sns.boxplot(x=df['Meta_score'])"
   ]
  },
  {
   "cell_type": "code",
   "execution_count": 25,
   "metadata": {
    "execution": {
     "iopub.execute_input": "2023-03-31T15:32:54.782646Z",
     "iopub.status.busy": "2023-03-31T15:32:54.782173Z",
     "iopub.status.idle": "2023-03-31T15:32:55.121729Z",
     "shell.execute_reply": "2023-03-31T15:32:55.120399Z",
     "shell.execute_reply.started": "2023-03-31T15:32:54.782611Z"
    }
   },
   "outputs": [
    {
     "data": {
      "text/plain": [
       "<seaborn.axisgrid.FacetGrid at 0x7f8acb9c9be0>"
      ]
     },
     "execution_count": 25,
     "metadata": {},
     "output_type": "execute_result"
    },
    {
     "data": {
      "image/png": "[encoded data removed]",
      "text/plain": [
       "<Figure size 360x360 with 1 Axes>"
      ]
     },
     "metadata": {
      "needs_background": "light"
     },
     "output_type": "display_data"
    }
   ],
   "source": [
    "\n",
    "sns.displot(df['Meta_score'],kind='kde')"
   ]
  },
  {
   "cell_type": "markdown",
   "metadata": {},
   "source": [
    "# **Correlation between the attributes**\n"
   ]
  },
  {
   "cell_type": "code",
   "execution_count": 26,
   "metadata": {
    "execution": {
     "iopub.execute_input": "2023-03-31T15:32:55.124509Z",
     "iopub.status.busy": "2023-03-31T15:32:55.123659Z",
     "iopub.status.idle": "2023-03-31T15:32:55.143298Z",
     "shell.execute_reply": "2023-03-31T15:32:55.141866Z",
     "shell.execute_reply.started": "2023-03-31T15:32:55.124444Z"
    }
   },
   "outputs": [
    {
     "data": {
      "text/html": [
       "<div>\n",
       "<style scoped>\n",
       "    .dataframe tbody tr th:only-of-type {\n",
       "        vertical-align: middle;\n",
       "    }\n",
       "\n",
       "    .dataframe tbody tr th {\n",
       "        vertical-align: top;\n",
       "    }\n",
       "\n",
       "    .dataframe thead th {\n",
       "        text-align: right;\n",
       "    }\n",
       "</style>\n",
       "<table border=\"1\" class=\"dataframe\">\n",
       "  <thead>\n",
       "    <tr style=\"text-align: right;\">\n",
       "      <th></th>\n",
       "      <th>Runtime</th>\n",
       "      <th>IMDB_Rating</th>\n",
       "      <th>Meta_score</th>\n",
       "      <th>No_of_Votes</th>\n",
       "      <th>Gross</th>\n",
       "    </tr>\n",
       "  </thead>\n",
       "  <tbody>\n",
       "    <tr>\n",
       "      <th>Runtime</th>\n",
       "      <td>1.000000</td>\n",
       "      <td>0.253848</td>\n",
       "      <td>0.043160</td>\n",
       "      <td>0.179149</td>\n",
       "      <td>0.140581</td>\n",
       "    </tr>\n",
       "    <tr>\n",
       "      <th>IMDB_Rating</th>\n",
       "      <td>0.253848</td>\n",
       "      <td>1.000000</td>\n",
       "      <td>-0.187678</td>\n",
       "      <td>0.507302</td>\n",
       "      <td>0.088830</td>\n",
       "    </tr>\n",
       "    <tr>\n",
       "      <th>Meta_score</th>\n",
       "      <td>0.043160</td>\n",
       "      <td>-0.187678</td>\n",
       "      <td>1.000000</td>\n",
       "      <td>0.021526</td>\n",
       "      <td>0.055280</td>\n",
       "    </tr>\n",
       "    <tr>\n",
       "      <th>No_of_Votes</th>\n",
       "      <td>0.179149</td>\n",
       "      <td>0.507302</td>\n",
       "      <td>0.021526</td>\n",
       "      <td>1.000000</td>\n",
       "      <td>0.597268</td>\n",
       "    </tr>\n",
       "    <tr>\n",
       "      <th>Gross</th>\n",
       "      <td>0.140581</td>\n",
       "      <td>0.088830</td>\n",
       "      <td>0.055280</td>\n",
       "      <td>0.597268</td>\n",
       "      <td>1.000000</td>\n",
       "    </tr>\n",
       "  </tbody>\n",
       "</table>\n",
       "</div>"
      ],
      "text/plain": [
       "              Runtime  IMDB_Rating  Meta_score  No_of_Votes     Gross\n",
       "Runtime      1.000000     0.253848    0.043160     0.179149  0.140581\n",
       "IMDB_Rating  0.253848     1.000000   -0.187678     0.507302  0.088830\n",
       "Meta_score   0.043160    -0.187678    1.000000     0.021526  0.055280\n",
       "No_of_Votes  0.179149     0.507302    0.021526     1.000000  0.597268\n",
       "Gross        0.140581     0.088830    0.055280     0.597268  1.000000"
      ]
     },
     "execution_count": 26,
     "metadata": {},
     "output_type": "execute_result"
    }
   ],
   "source": [
    "df.corr()"
   ]
  },
  {
   "cell_type": "code",
   "execution_count": 27,
   "metadata": {
    "execution": {
     "iopub.execute_input": "2023-03-31T15:32:55.146785Z",
     "iopub.status.busy": "2023-03-31T15:32:55.146174Z",
     "iopub.status.idle": "2023-03-31T15:32:55.544709Z",
     "shell.execute_reply": "2023-03-31T15:32:55.543150Z",
     "shell.execute_reply.started": "2023-03-31T15:32:55.146740Z"
    }
   },
   "outputs": [
    {
     "data": {
      "text/plain": [
       "<AxesSubplot:>"
      ]
     },
     "execution_count": 27,
     "metadata": {},
     "output_type": "execute_result"
    },
    {
     "data": {
      "image/png": "[encoded data removed]",
      "text/plain": [
       "<Figure size 432x288 with 2 Axes>"
      ]
     },
     "metadata": {
      "needs_background": "light"
     },
     "output_type": "display_data"
    }
   ],
   "source": [
    "sns.heatmap(df.corr(),cbar=True,annot=True,cmap='Blues')"
   ]
  },
  {
   "cell_type": "markdown",
   "metadata": {},
   "source": [
    "# Negative Correlations\n",
    "    Meta_score -> No_of_votes, Gross\n",
    "    No_of_votes -> Meta_score\n",
    "    Gross -> Meta_score\n",
    "\n",
    "# Positive Correlations\n",
    "    IMDB_Rating -> Meta_score, No_of_votes, Gross\n",
    "    Meta_score -> IMDB_Rating\n",
    "    No_of_votes -> IMDB_Rating, Gross\n",
    "    Gross -> IMDB_Rating, No_of_votes\n"
   ]
  },
  {
   "cell_type": "code",
   "execution_count": 28,
   "metadata": {
    "execution": {
     "iopub.execute_input": "2023-03-31T15:32:55.546735Z",
     "iopub.status.busy": "2023-03-31T15:32:55.546241Z",
     "iopub.status.idle": "2023-03-31T15:32:55.569828Z",
     "shell.execute_reply": "2023-03-31T15:32:55.568440Z",
     "shell.execute_reply.started": "2023-03-31T15:32:55.546698Z"
    }
   },
   "outputs": [
    {
     "data": {
      "text/html": [
       "<div>\n",
       "<style scoped>\n",
       "    .dataframe tbody tr th:only-of-type {\n",
       "        vertical-align: middle;\n",
       "    }\n",
       "\n",
       "    .dataframe tbody tr th {\n",
       "        vertical-align: top;\n",
       "    }\n",
       "\n",
       "    .dataframe thead th {\n",
       "        text-align: right;\n",
       "    }\n",
       "</style>\n",
       "<table border=\"1\" class=\"dataframe\">\n",
       "  <thead>\n",
       "    <tr style=\"text-align: right;\">\n",
       "      <th></th>\n",
       "      <th>Series_Title</th>\n",
       "      <th>Released_Year</th>\n",
       "      <th>Certificate</th>\n",
       "      <th>Runtime</th>\n",
       "      <th>Genre</th>\n",
       "      <th>IMDB_Rating</th>\n",
       "      <th>Meta_score</th>\n",
       "      <th>Director</th>\n",
       "      <th>No_of_Votes</th>\n",
       "      <th>Gross</th>\n",
       "      <th>Cast</th>\n",
       "    </tr>\n",
       "  </thead>\n",
       "  <tbody>\n",
       "    <tr>\n",
       "      <th>0</th>\n",
       "      <td>The Shawshank Redemption</td>\n",
       "      <td>1994</td>\n",
       "      <td>A</td>\n",
       "      <td>142</td>\n",
       "      <td>Drama</td>\n",
       "      <td>9.3</td>\n",
       "      <td>0.012500</td>\n",
       "      <td>Frank Darabont</td>\n",
       "      <td>2343110</td>\n",
       "      <td>28341469</td>\n",
       "      <td>Tim Robbins Morgan Freeman Bob Gunton William ...</td>\n",
       "    </tr>\n",
       "    <tr>\n",
       "      <th>1</th>\n",
       "      <td>The Godfather</td>\n",
       "      <td>1972</td>\n",
       "      <td>A</td>\n",
       "      <td>175</td>\n",
       "      <td>Crime, Drama</td>\n",
       "      <td>9.2</td>\n",
       "      <td>0.010000</td>\n",
       "      <td>Francis Ford Coppola</td>\n",
       "      <td>1620367</td>\n",
       "      <td>134966411</td>\n",
       "      <td>Marlon Brando Al Pacino James Caan Diane Keaton</td>\n",
       "    </tr>\n",
       "    <tr>\n",
       "      <th>2</th>\n",
       "      <td>The Dark Knight</td>\n",
       "      <td>2008</td>\n",
       "      <td>UA</td>\n",
       "      <td>152</td>\n",
       "      <td>Action, Crime, Drama</td>\n",
       "      <td>9.0</td>\n",
       "      <td>0.011905</td>\n",
       "      <td>Christopher Nolan</td>\n",
       "      <td>2303232</td>\n",
       "      <td>534858444</td>\n",
       "      <td>Christian Bale Heath Ledger Aaron Eckhart Mich...</td>\n",
       "    </tr>\n",
       "    <tr>\n",
       "      <th>3</th>\n",
       "      <td>The Godfather: Part II</td>\n",
       "      <td>1974</td>\n",
       "      <td>A</td>\n",
       "      <td>202</td>\n",
       "      <td>Crime, Drama</td>\n",
       "      <td>9.0</td>\n",
       "      <td>0.011111</td>\n",
       "      <td>Francis Ford Coppola</td>\n",
       "      <td>1129952</td>\n",
       "      <td>57300000</td>\n",
       "      <td>Al Pacino Robert De Niro Robert Duvall Diane K...</td>\n",
       "    </tr>\n",
       "    <tr>\n",
       "      <th>4</th>\n",
       "      <td>12 Angry Men</td>\n",
       "      <td>1957</td>\n",
       "      <td>U</td>\n",
       "      <td>96</td>\n",
       "      <td>Crime, Drama</td>\n",
       "      <td>9.0</td>\n",
       "      <td>0.010417</td>\n",
       "      <td>Sidney Lumet</td>\n",
       "      <td>689845</td>\n",
       "      <td>4360000</td>\n",
       "      <td>Henry Fonda Lee J. Cobb Martin Balsam John Fie...</td>\n",
       "    </tr>\n",
       "    <tr>\n",
       "      <th>5</th>\n",
       "      <td>The Lord of the Rings: The Return of the King</td>\n",
       "      <td>2003</td>\n",
       "      <td>U</td>\n",
       "      <td>201</td>\n",
       "      <td>Action, Adventure, Drama</td>\n",
       "      <td>8.9</td>\n",
       "      <td>0.010638</td>\n",
       "      <td>Peter Jackson</td>\n",
       "      <td>1642758</td>\n",
       "      <td>377845905</td>\n",
       "      <td>Elijah Wood Viggo Mortensen Ian McKellen Orlan...</td>\n",
       "    </tr>\n",
       "    <tr>\n",
       "      <th>6</th>\n",
       "      <td>Pulp Fiction</td>\n",
       "      <td>1994</td>\n",
       "      <td>A</td>\n",
       "      <td>154</td>\n",
       "      <td>Crime, Drama</td>\n",
       "      <td>8.9</td>\n",
       "      <td>0.010638</td>\n",
       "      <td>Quentin Tarantino</td>\n",
       "      <td>1826188</td>\n",
       "      <td>107928762</td>\n",
       "      <td>John Travolta Uma Thurman Samuel L. Jackson Br...</td>\n",
       "    </tr>\n",
       "  </tbody>\n",
       "</table>\n",
       "</div>"
      ],
      "text/plain": [
       "                                    Series_Title Released_Year Certificate  \\\n",
       "0                       The Shawshank Redemption          1994           A   \n",
       "1                                  The Godfather          1972           A   \n",
       "2                                The Dark Knight          2008          UA   \n",
       "3                         The Godfather: Part II          1974           A   \n",
       "4                                   12 Angry Men          1957           U   \n",
       "5  The Lord of the Rings: The Return of the King          2003           U   \n",
       "6                                   Pulp Fiction          1994           A   \n",
       "\n",
       "   Runtime                     Genre  IMDB_Rating  Meta_score  \\\n",
       "0      142                     Drama          9.3    0.012500   \n",
       "1      175              Crime, Drama          9.2    0.010000   \n",
       "2      152      Action, Crime, Drama          9.0    0.011905   \n",
       "3      202              Crime, Drama          9.0    0.011111   \n",
       "4       96              Crime, Drama          9.0    0.010417   \n",
       "5      201  Action, Adventure, Drama          8.9    0.010638   \n",
       "6      154              Crime, Drama          8.9    0.010638   \n",
       "\n",
       "               Director  No_of_Votes      Gross  \\\n",
       "0        Frank Darabont      2343110   28341469   \n",
       "1  Francis Ford Coppola      1620367  134966411   \n",
       "2     Christopher Nolan      2303232  534858444   \n",
       "3  Francis Ford Coppola      1129952   57300000   \n",
       "4          Sidney Lumet       689845    4360000   \n",
       "5         Peter Jackson      1642758  377845905   \n",
       "6     Quentin Tarantino      1826188  107928762   \n",
       "\n",
       "                                                Cast  \n",
       "0  Tim Robbins Morgan Freeman Bob Gunton William ...  \n",
       "1    Marlon Brando Al Pacino James Caan Diane Keaton  \n",
       "2  Christian Bale Heath Ledger Aaron Eckhart Mich...  \n",
       "3  Al Pacino Robert De Niro Robert Duvall Diane K...  \n",
       "4  Henry Fonda Lee J. Cobb Martin Balsam John Fie...  \n",
       "5  Elijah Wood Viggo Mortensen Ian McKellen Orlan...  \n",
       "6  John Travolta Uma Thurman Samuel L. Jackson Br...  "
      ]
     },
     "execution_count": 28,
     "metadata": {},
     "output_type": "execute_result"
    }
   ],
   "source": [
    "# TOP 7 movies according to IMBD_Rating\n",
    "top7_IMDB = df.sort_values('IMDB_Rating', ascending= False)[:7].reset_index(drop=True)\n",
    "top7_IMDB.head(7)"
   ]
  },
  {
   "cell_type": "markdown",
   "metadata": {},
   "source": [
    "# **IMDB_Rating vs Meta_scores**"
   ]
  },
  {
   "cell_type": "code",
   "execution_count": 29,
   "metadata": {
    "execution": {
     "iopub.execute_input": "2023-03-31T15:32:55.571584Z",
     "iopub.status.busy": "2023-03-31T15:32:55.571235Z",
     "iopub.status.idle": "2023-03-31T15:32:56.098496Z",
     "shell.execute_reply": "2023-03-31T15:32:56.096994Z",
     "shell.execute_reply.started": "2023-03-31T15:32:55.571552Z"
    }
   },
   "outputs": [
    {
     "data": {
      "image/png": "[encoded data removed]",
      "text/plain": [
       "<Figure size 432x288 with 1 Axes>"
      ]
     },
     "metadata": {
      "needs_background": "light"
     },
     "output_type": "display_data"
    },
    {
     "data": {
      "text/plain": [
       "Text(0.5, 1.0, 'IMDB_Rating vs Meta_score')"
      ]
     },
     "execution_count": 29,
     "metadata": {},
     "output_type": "execute_result"
    },
    {
     "data": {
      "image/png": "[encoded data removed]",
      "text/plain": [
       "<Figure size 432x288 with 1 Axes>"
      ]
     },
     "metadata": {
      "needs_background": "light"
     },
     "output_type": "display_data"
    }
   ],
   "source": [
    "plt.scatter(x=top7_IMDB['Meta_score'], y=top7_IMDB['IMDB_Rating'], edgecolor='Black')\n",
    "plt.ylabel('IMDB_Rating')\n",
    "plt.xlabel('Meta_score')\n",
    "plt.title('IMDB_Rating vs Meta_score')\n",
    "plt.show()\n",
    "\n",
    "# BAR REPRESENTATION\n",
    "g=sns.barplot(y=top7_IMDB['Meta_score'][:7],x=top7_IMDB['IMDB_Rating'][:7], palette = 'hls')\n",
    "\n",
    "g.set_title(\"IMDB_Rating vs Meta_score\", weight = \"bold\")"
   ]
  },
  {
   "cell_type": "markdown",
   "metadata": {},
   "source": [
    "# **IMDB_Rating vs No_of_Votes**"
   ]
  },
  {
   "cell_type": "code",
   "execution_count": 30,
   "metadata": {
    "execution": {
     "iopub.execute_input": "2023-03-31T15:32:56.100147Z",
     "iopub.status.busy": "2023-03-31T15:32:56.099745Z",
     "iopub.status.idle": "2023-03-31T15:32:56.386379Z",
     "shell.execute_reply": "2023-03-31T15:32:56.385042Z",
     "shell.execute_reply.started": "2023-03-31T15:32:56.100109Z"
    }
   },
   "outputs": [
    {
     "data": {
      "text/plain": [
       "Text(0.5, 1.0, 'Top Voted Movies')"
      ]
     },
     "execution_count": 30,
     "metadata": {},
     "output_type": "execute_result"
    },
    {
     "data": {
      "image/png": "[encoded data removed]",
      "text/plain": [
       "<Figure size 432x288 with 1 Axes>"
      ]
     },
     "metadata": {
      "needs_background": "light"
     },
     "output_type": "display_data"
    }
   ],
   "source": [
    "g=sns.barplot(x=top7_IMDB['No_of_Votes'][:7], y=top7_IMDB['Series_Title'][:7],palette = 'hls')\n",
    "g.set_title(\"Top Voted Movies\", weight = \"bold\")"
   ]
  },
  {
   "cell_type": "code",
   "execution_count": 31,
   "metadata": {
    "execution": {
     "iopub.execute_input": "2023-03-31T15:32:56.388794Z",
     "iopub.status.busy": "2023-03-31T15:32:56.388256Z",
     "iopub.status.idle": "2023-03-31T15:32:56.410358Z",
     "shell.execute_reply": "2023-03-31T15:32:56.409055Z",
     "shell.execute_reply.started": "2023-03-31T15:32:56.388732Z"
    }
   },
   "outputs": [
    {
     "data": {
      "text/html": [
       "<div>\n",
       "<style scoped>\n",
       "    .dataframe tbody tr th:only-of-type {\n",
       "        vertical-align: middle;\n",
       "    }\n",
       "\n",
       "    .dataframe tbody tr th {\n",
       "        vertical-align: top;\n",
       "    }\n",
       "\n",
       "    .dataframe thead th {\n",
       "        text-align: right;\n",
       "    }\n",
       "</style>\n",
       "<table border=\"1\" class=\"dataframe\">\n",
       "  <thead>\n",
       "    <tr style=\"text-align: right;\">\n",
       "      <th></th>\n",
       "      <th>Series_Title</th>\n",
       "      <th>Released_Year</th>\n",
       "      <th>Certificate</th>\n",
       "      <th>Runtime</th>\n",
       "      <th>Genre</th>\n",
       "      <th>IMDB_Rating</th>\n",
       "      <th>Meta_score</th>\n",
       "      <th>Director</th>\n",
       "      <th>No_of_Votes</th>\n",
       "      <th>Gross</th>\n",
       "      <th>Cast</th>\n",
       "    </tr>\n",
       "  </thead>\n",
       "  <tbody>\n",
       "    <tr>\n",
       "      <th>0</th>\n",
       "      <td>The Shawshank Redemption</td>\n",
       "      <td>1994</td>\n",
       "      <td>A</td>\n",
       "      <td>142</td>\n",
       "      <td>Drama</td>\n",
       "      <td>9.3</td>\n",
       "      <td>0.012500</td>\n",
       "      <td>Frank Darabont</td>\n",
       "      <td>2343110</td>\n",
       "      <td>28341469</td>\n",
       "      <td>Tim Robbins Morgan Freeman Bob Gunton William ...</td>\n",
       "    </tr>\n",
       "    <tr>\n",
       "      <th>1</th>\n",
       "      <td>The Dark Knight</td>\n",
       "      <td>2008</td>\n",
       "      <td>UA</td>\n",
       "      <td>152</td>\n",
       "      <td>Action, Crime, Drama</td>\n",
       "      <td>9.0</td>\n",
       "      <td>0.011905</td>\n",
       "      <td>Christopher Nolan</td>\n",
       "      <td>2303232</td>\n",
       "      <td>534858444</td>\n",
       "      <td>Christian Bale Heath Ledger Aaron Eckhart Mich...</td>\n",
       "    </tr>\n",
       "    <tr>\n",
       "      <th>2</th>\n",
       "      <td>Inception</td>\n",
       "      <td>2010</td>\n",
       "      <td>UA</td>\n",
       "      <td>148</td>\n",
       "      <td>Action, Adventure, Sci-Fi</td>\n",
       "      <td>8.8</td>\n",
       "      <td>0.013514</td>\n",
       "      <td>Christopher Nolan</td>\n",
       "      <td>2067042</td>\n",
       "      <td>292576195</td>\n",
       "      <td>Leonardo DiCaprio Joseph Gordon-Levitt Elliot ...</td>\n",
       "    </tr>\n",
       "    <tr>\n",
       "      <th>3</th>\n",
       "      <td>Fight Club</td>\n",
       "      <td>1999</td>\n",
       "      <td>A</td>\n",
       "      <td>139</td>\n",
       "      <td>Drama</td>\n",
       "      <td>8.8</td>\n",
       "      <td>0.015152</td>\n",
       "      <td>David Fincher</td>\n",
       "      <td>1854740</td>\n",
       "      <td>37030102</td>\n",
       "      <td>Brad Pitt Edward Norton Meat Loaf Zach Grenier</td>\n",
       "    </tr>\n",
       "    <tr>\n",
       "      <th>4</th>\n",
       "      <td>Pulp Fiction</td>\n",
       "      <td>1994</td>\n",
       "      <td>A</td>\n",
       "      <td>154</td>\n",
       "      <td>Crime, Drama</td>\n",
       "      <td>8.9</td>\n",
       "      <td>0.010638</td>\n",
       "      <td>Quentin Tarantino</td>\n",
       "      <td>1826188</td>\n",
       "      <td>107928762</td>\n",
       "      <td>John Travolta Uma Thurman Samuel L. Jackson Br...</td>\n",
       "    </tr>\n",
       "  </tbody>\n",
       "</table>\n",
       "</div>"
      ],
      "text/plain": [
       "               Series_Title Released_Year Certificate  Runtime  \\\n",
       "0  The Shawshank Redemption          1994           A      142   \n",
       "1           The Dark Knight          2008          UA      152   \n",
       "2                 Inception          2010          UA      148   \n",
       "3                Fight Club          1999           A      139   \n",
       "4              Pulp Fiction          1994           A      154   \n",
       "\n",
       "                       Genre  IMDB_Rating  Meta_score           Director  \\\n",
       "0                      Drama          9.3    0.012500     Frank Darabont   \n",
       "1       Action, Crime, Drama          9.0    0.011905  Christopher Nolan   \n",
       "2  Action, Adventure, Sci-Fi          8.8    0.013514  Christopher Nolan   \n",
       "3                      Drama          8.8    0.015152      David Fincher   \n",
       "4               Crime, Drama          8.9    0.010638  Quentin Tarantino   \n",
       "\n",
       "   No_of_Votes      Gross                                               Cast  \n",
       "0      2343110   28341469  Tim Robbins Morgan Freeman Bob Gunton William ...  \n",
       "1      2303232  534858444  Christian Bale Heath Ledger Aaron Eckhart Mich...  \n",
       "2      2067042  292576195  Leonardo DiCaprio Joseph Gordon-Levitt Elliot ...  \n",
       "3      1854740   37030102     Brad Pitt Edward Norton Meat Loaf Zach Grenier  \n",
       "4      1826188  107928762  John Travolta Uma Thurman Samuel L. Jackson Br...  "
      ]
     },
     "execution_count": 31,
     "metadata": {},
     "output_type": "execute_result"
    }
   ],
   "source": [
    "top_voted = df.sort_values('No_of_Votes', ascending= False)[:7].reset_index(drop=True)\n",
    "top_voted.head()"
   ]
  },
  {
   "cell_type": "markdown",
   "metadata": {},
   "source": [
    "# **No_of_Votes vs director** "
   ]
  },
  {
   "cell_type": "code",
   "execution_count": 32,
   "metadata": {
    "execution": {
     "iopub.execute_input": "2023-03-31T15:32:56.412428Z",
     "iopub.status.busy": "2023-03-31T15:32:56.411906Z",
     "iopub.status.idle": "2023-03-31T15:32:56.665116Z",
     "shell.execute_reply": "2023-03-31T15:32:56.663737Z",
     "shell.execute_reply.started": "2023-03-31T15:32:56.412374Z"
    }
   },
   "outputs": [
    {
     "data": {
      "text/plain": [
       "Text(0.5, 1.0, 'No_of_Votes vs director')"
      ]
     },
     "execution_count": 32,
     "metadata": {},
     "output_type": "execute_result"
    },
    {
     "data": {
      "image/png": "[encoded data removed]",
      "text/plain": [
       "<Figure size 432x288 with 1 Axes>"
      ]
     },
     "metadata": {
      "needs_background": "light"
     },
     "output_type": "display_data"
    }
   ],
   "source": [
    "No_of_directors = top_voted['Director'].nunique()\n",
    "gp=sns.barplot(x=top_voted['No_of_Votes'][:No_of_directors], y=top_voted['Director'].unique()[:No_of_directors], palette = 'hls')\n",
    "\n",
    "gp.set_title(\"No_of_Votes vs director\", weight = \"bold\")"
   ]
  },
  {
   "cell_type": "markdown",
   "metadata": {},
   "source": [
    "# ** No_of_Votes vs Cast**"
   ]
  },
  {
   "cell_type": "code",
   "execution_count": 33,
   "metadata": {
    "execution": {
     "iopub.execute_input": "2023-03-31T15:32:56.667706Z",
     "iopub.status.busy": "2023-03-31T15:32:56.667169Z",
     "iopub.status.idle": "2023-03-31T15:32:56.989674Z",
     "shell.execute_reply": "2023-03-31T15:32:56.988336Z",
     "shell.execute_reply.started": "2023-03-31T15:32:56.667651Z"
    }
   },
   "outputs": [
    {
     "data": {
      "text/plain": [
       "Text(0.5, 1.0, 'No_of_Votes vs Cast')"
      ]
     },
     "execution_count": 33,
     "metadata": {},
     "output_type": "execute_result"
    },
    {
     "data": {
      "image/png": "[encoded data removed]",
      "text/plain": [
       "<Figure size 432x288 with 1 Axes>"
      ]
     },
     "metadata": {
      "needs_background": "light"
     },
     "output_type": "display_data"
    }
   ],
   "source": [
    "No_of_uniqueCast = top_voted['Cast'].nunique()\n",
    "gp=sns.barplot(y=top_voted['Cast'].unique()[:No_of_uniqueCast],x=top_voted['No_of_Votes'][:No_of_uniqueCast], palette = 'hls')\n",
    "\n",
    "gp.set_title(\"No_of_Votes vs Cast\", weight = \"bold\")\n"
   ]
  },
  {
   "cell_type": "markdown",
   "metadata": {},
   "source": [
    "# **Hypothesis Testing**\n",
    "NULL Hypothesis: Assuming a the increase in Metascore leads same growth increase in Gross collection \n",
    "\n",
    "Alternative Hypothesis: There is no relationship between Metascore and gross.\n",
    "\n"
   ]
  },
  {
   "cell_type": "code",
   "execution_count": 34,
   "metadata": {
    "execution": {
     "iopub.execute_input": "2023-03-31T15:32:56.991646Z",
     "iopub.status.busy": "2023-03-31T15:32:56.991281Z",
     "iopub.status.idle": "2023-03-31T15:32:57.000665Z",
     "shell.execute_reply": "2023-03-31T15:32:56.999139Z",
     "shell.execute_reply.started": "2023-03-31T15:32:56.991611Z"
    }
   },
   "outputs": [
    {
     "name": "stdout",
     "output_type": "stream",
     "text": [
      "stats=0.9556296467781067, p=0.001986395800486207\n",
      "Not Normal Distribution\n"
     ]
    }
   ],
   "source": [
    "#  Shapiro-Wilk Test [To see if the data is normally distributed]\n",
    "\n",
    "from scipy.stats import shapiro\n",
    "\n",
    "Sample = df['Meta_score'].sample(n=100, random_state=42)\n",
    "stats, p = shapiro(Sample)\n",
    "print(f'stats={stats}, p={p}')\n",
    "if p > 0.05:\n",
    "    print('Normal Distribution')\n",
    "else:\n",
    "    print('Not Normal Distribution')"
   ]
  },
  {
   "cell_type": "markdown",
   "metadata": {},
   "source": [
    "Since the data is not normally distributed. Alternative Hypothesis is accepted i.e there is no relationship between Meta_score and gross."
   ]
  },
  {
   "cell_type": "code",
   "execution_count": 35,
   "metadata": {
    "execution": {
     "iopub.execute_input": "2023-03-31T15:32:57.002794Z",
     "iopub.status.busy": "2023-03-31T15:32:57.002401Z",
     "iopub.status.idle": "2023-03-31T15:32:57.015534Z",
     "shell.execute_reply": "2023-03-31T15:32:57.014114Z",
     "shell.execute_reply.started": "2023-03-31T15:32:57.002757Z"
    }
   },
   "outputs": [],
   "source": [
    "msm= df.groupby('Released_Year')['Meta_score'].agg(['mean'])\n",
    "gm = df.groupby('Released_Year')['Gross'].agg(['mean'])\n"
   ]
  },
  {
   "cell_type": "code",
   "execution_count": 36,
   "metadata": {
    "execution": {
     "iopub.execute_input": "2023-03-31T15:32:57.018587Z",
     "iopub.status.busy": "2023-03-31T15:32:57.018043Z",
     "iopub.status.idle": "2023-03-31T15:32:57.031118Z",
     "shell.execute_reply": "2023-03-31T15:32:57.029724Z",
     "shell.execute_reply.started": "2023-03-31T15:32:57.018545Z"
    }
   },
   "outputs": [
    {
     "data": {
      "text/plain": [
       "Ttest_indResult(statistic=array([-10.32241515]), pvalue=array([2.41880051e-17]))"
      ]
     },
     "execution_count": 36,
     "metadata": {},
     "output_type": "execute_result"
    }
   ],
   "source": [
    "from scipy.stats import ttest_ind\n",
    "ttest_ind(msm, gm , equal_var = False)\n"
   ]
  },
  {
   "cell_type": "markdown",
   "metadata": {},
   "source": [
    "# **RESULT**\n",
    "The p value is 2.41880051e-17 which is smaller than 0.05. Therefore we reject the null hypothesis at 5% significance level, meaning that the high metascore does not mean that the movie will have high gross box-office collection."
   ]
  },
  {
   "cell_type": "markdown",
   "metadata": {},
   "source": [
    "# **Suggestion for next step analyzing**\n",
    "* correlation between other features can be found out.\n",
    "* Genre which preferred by the audience the most.\n",
    "* outliers in other features can be dealt with.\n",
    "* different hypothesis can be formulated."
   ]
  },
  {
   "cell_type": "markdown",
   "metadata": {},
   "source": [
    "# **About the dataset**\n",
    "I think the dataset has all the attributes need to conduct the analysis. The features in the dataset can be used to find lot of insights and key findings by finding correlation between various features. However, it does contain null values and garbage values which requires to be dealt with. The dataset also have outliers which requires to be scaled. "
   ]
  }
 ],
 "metadata": {
  "kernelspec": {
   "display_name": "Python 3 (ipykernel)",
   "language": "python",
   "name": "python3"
  },
  "language_info": {
   "codemirror_mode": {
    "name": "ipython",
    "version": 3
   },
   "file_extension": ".py",
   "mimetype": "text/x-python",
   "name": "python",
   "nbconvert_exporter": "python",
   "pygments_lexer": "ipython3",
   "version": "3.9.7"
  }
 },
 "nbformat": 4,
 "nbformat_minor": 4
}
